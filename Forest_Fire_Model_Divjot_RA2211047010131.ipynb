{
 "cells": [
  {
   "cell_type": "code",
   "execution_count": 2,
   "id": "5b00a0af",
   "metadata": {},
   "outputs": [],
   "source": [
    "import numpy as np\n",
    "import pandas as pd\n",
    "from sklearn.linear_model import LogisticRegression\n",
    "from sklearn.model_selection import train_test_split"
   ]
  },
  {
   "cell_type": "code",
   "execution_count": 3,
   "id": "46039fb1",
   "metadata": {},
   "outputs": [],
   "source": [
    "data = pd.read_csv(\"ForestFireDataset.csv\")"
   ]
  },
  {
   "cell_type": "code",
   "execution_count": 4,
   "id": "1f02bcd7",
   "metadata": {},
   "outputs": [
    {
     "data": {
      "text/html": [
       "<div>\n",
       "<style scoped>\n",
       "    .dataframe tbody tr th:only-of-type {\n",
       "        vertical-align: middle;\n",
       "    }\n",
       "\n",
       "    .dataframe tbody tr th {\n",
       "        vertical-align: top;\n",
       "    }\n",
       "\n",
       "    .dataframe thead th {\n",
       "        text-align: right;\n",
       "    }\n",
       "</style>\n",
       "<table border=\"1\" class=\"dataframe\">\n",
       "  <thead>\n",
       "    <tr style=\"text-align: right;\">\n",
       "      <th></th>\n",
       "      <th>Area</th>\n",
       "      <th>Oxygen</th>\n",
       "      <th>Temperature</th>\n",
       "      <th>Humidity</th>\n",
       "      <th>Fire Occurrence</th>\n",
       "    </tr>\n",
       "  </thead>\n",
       "  <tbody>\n",
       "    <tr>\n",
       "      <th>0</th>\n",
       "      <td>Test Forest 1</td>\n",
       "      <td>40</td>\n",
       "      <td>45</td>\n",
       "      <td>20</td>\n",
       "      <td>1</td>\n",
       "    </tr>\n",
       "    <tr>\n",
       "      <th>1</th>\n",
       "      <td>Test Forest 2</td>\n",
       "      <td>50</td>\n",
       "      <td>30</td>\n",
       "      <td>10</td>\n",
       "      <td>1</td>\n",
       "    </tr>\n",
       "    <tr>\n",
       "      <th>2</th>\n",
       "      <td>Test Forest 3</td>\n",
       "      <td>10</td>\n",
       "      <td>20</td>\n",
       "      <td>70</td>\n",
       "      <td>0</td>\n",
       "    </tr>\n",
       "    <tr>\n",
       "      <th>3</th>\n",
       "      <td>Test Forest 4</td>\n",
       "      <td>60</td>\n",
       "      <td>45</td>\n",
       "      <td>70</td>\n",
       "      <td>1</td>\n",
       "    </tr>\n",
       "    <tr>\n",
       "      <th>4</th>\n",
       "      <td>Test Forest 5</td>\n",
       "      <td>30</td>\n",
       "      <td>48</td>\n",
       "      <td>10</td>\n",
       "      <td>1</td>\n",
       "    </tr>\n",
       "  </tbody>\n",
       "</table>\n",
       "</div>"
      ],
      "text/plain": [
       "            Area  Oxygen  Temperature  Humidity  Fire Occurrence\n",
       "0  Test Forest 1      40           45        20                1\n",
       "1  Test Forest 2      50           30        10                1\n",
       "2  Test Forest 3      10           20        70                0\n",
       "3  Test Forest 4      60           45        70                1\n",
       "4  Test Forest 5      30           48        10                1"
      ]
     },
     "execution_count": 4,
     "metadata": {},
     "output_type": "execute_result"
    }
   ],
   "source": [
    "data.head()"
   ]
  },
  {
   "cell_type": "code",
   "execution_count": 5,
   "id": "c385d092",
   "metadata": {},
   "outputs": [
    {
     "name": "stdout",
     "output_type": "stream",
     "text": [
      "   Oxygen  Temperature  Humidity\n",
      "1      50           30        10\n",
      "2      10           20        70\n",
      "3      60           45        70\n",
      "4      30           48        10\n",
      "5      50           15        30\n",
      "1    1\n",
      "2    0\n",
      "3    1\n",
      "4    1\n",
      "5    0\n",
      "Name: Fire Occurrence, dtype: int64\n"
     ]
    }
   ],
   "source": [
    "x = data.iloc[1:, 1:-1] \n",
    "y = data.iloc[1:, -1]\n",
    "print(x.head())\n",
    "print(y.head())"
   ]
  },
  {
   "cell_type": "code",
   "execution_count": 6,
   "id": "020b4d30",
   "metadata": {},
   "outputs": [
    {
     "data": {
      "text/plain": [
       "LogisticRegression()"
      ]
     },
     "execution_count": 6,
     "metadata": {},
     "output_type": "execute_result"
    }
   ],
   "source": [
    "x_train, x_test, y_train, y_test = train_test_split(x, y, test_size=0.25,random_state=17)\n",
    "log_reg = LogisticRegression()\n",
    "log_reg.fit(x_train.values, y_train)"
   ]
  },
  {
   "cell_type": "code",
   "execution_count": 7,
   "id": "61675e8a",
   "metadata": {},
   "outputs": [
    {
     "name": "stdout",
     "output_type": "stream",
     "text": [
      "Logistic Regression Training Accuracy:  1.0\n"
     ]
    }
   ],
   "source": [
    "print(\"Logistic Regression Training Accuracy: \", log_reg.score(x_train.values,y_train))"
   ]
  },
  {
   "cell_type": "code",
   "execution_count": 8,
   "id": "50d4c2c9",
   "metadata": {},
   "outputs": [
    {
     "name": "stdout",
     "output_type": "stream",
     "text": [
      "Test case Predictions:\n",
      "[1.63693892e-12 1.00000000e+00 9.99999392e-01 9.99998586e-01\n",
      " 9.99255740e-01 9.99998586e-01 9.99999998e-01 1.00000000e+00\n",
      " 9.99927447e-01 7.00079001e-04 9.99999674e-01 9.99999915e-01\n",
      " 9.99999915e-01 1.48456985e-02 9.99255740e-01 5.35458706e-11\n",
      " 1.77018468e-05 1.77018468e-05 1.00000000e+00 9.99579110e-01\n",
      " 6.23137189e-06 1.00000000e+00 9.99999998e-01 9.99997254e-01\n",
      " 1.00000000e+00 1.05773707e-10 9.99999998e-01 9.99997516e-01\n",
      " 2.98286875e-04 1.00000000e+00 9.99999998e-01 6.51685732e-06\n",
      " 9.99995202e-01 9.80517894e-01 9.99996764e-01 9.99996764e-01\n",
      " 9.99495960e-01 1.48456985e-02 9.99999994e-01 9.99927447e-01\n",
      " 9.99996764e-01 9.99579110e-01 1.00000000e+00 6.53852589e-13\n",
      " 9.99255740e-01 9.99998586e-01 9.80517894e-01 1.35139088e-11\n",
      " 9.99996764e-01 9.99999998e-01 9.99999392e-01 6.51685732e-06\n",
      " 6.23137189e-06 9.99255740e-01 2.89096702e-14 6.51685732e-06\n",
      " 1.26595059e-10 1.77704573e-03 9.99997254e-01]\n"
     ]
    }
   ],
   "source": [
    "y_pred = log_reg.predict_proba(x_test.values)\n",
    "final_pred=np.transpose(y_pred)[1]\n",
    "print(\"Test case Predictions:\")\n",
    "print(final_pred)"
   ]
  },
  {
   "cell_type": "code",
   "execution_count": 9,
   "id": "3917e1e7",
   "metadata": {},
   "outputs": [
    {
     "name": "stdout",
     "output_type": "stream",
     "text": [
      "     Fire Occurrence  Prediction\n",
      "85                 0       0.000\n",
      "141                1       1.000\n",
      "209                1       1.000\n",
      "39                 1       1.000\n",
      "55                 1       0.999\n",
      "     Fire Occurrence  Prediction\n",
      "231                0       0.000\n",
      "154                0       0.000\n",
      "65                 0       0.000\n",
      "5                  0       0.002\n",
      "225                1       1.000\n"
     ]
    }
   ],
   "source": [
    "final_pred = np.round_(final_pred, decimals = 3)\n",
    "comp=pd.DataFrame(y_test)\n",
    "comp['Prediction'] = final_pred.tolist()\n",
    "print(comp.head())\n",
    "print(comp.tail())"
   ]
  },
  {
   "cell_type": "code",
   "execution_count": 10,
   "id": "25a801b8",
   "metadata": {},
   "outputs": [
    {
     "name": "stdout",
     "output_type": "stream",
     "text": [
      "Enter Oxygen 33\n",
      "Enter Temperature 33\n",
      "Enter Humidity 33\n"
     ]
    }
   ],
   "source": [
    "user_input=[]\n",
    "user_input.append(int(input(\"Enter Oxygen \")))\n",
    "user_input.append(int(input(\"Enter Temperature \")))\n",
    "user_input.append(int(input(\"Enter Humidity \")))"
   ]
  },
  {
   "cell_type": "code",
   "execution_count": 11,
   "id": "7fbeeb60",
   "metadata": {},
   "outputs": [
    {
     "name": "stdout",
     "output_type": "stream",
     "text": [
      "0.4133117430404827\n"
     ]
    }
   ],
   "source": [
    "user_test=pd.DataFrame(data=[user_input])\n",
    "user_pred = log_reg.predict_proba(user_test.values)\n",
    "user_prob=user_pred[0][1]\n",
    "print(user_prob)"
   ]
  },
  {
   "cell_type": "code",
   "execution_count": 12,
   "id": "41dd41c8",
   "metadata": {},
   "outputs": [
    {
     "name": "stdout",
     "output_type": "stream",
     "text": [
      "Probability of fire = 41.33%"
     ]
    }
   ],
   "source": [
    "print(\"Probability of fire =\",'%.2f' % (user_prob*100),end=\"%\")"
   ]
  }
 ],
 "metadata": {
  "kernelspec": {
   "display_name": "Python 3 (ipykernel)",
   "language": "python",
   "name": "python3"
  },
  "language_info": {
   "codemirror_mode": {
    "name": "ipython",
    "version": 3
   },
   "file_extension": ".py",
   "mimetype": "text/x-python",
   "name": "python",
   "nbconvert_exporter": "python",
   "pygments_lexer": "ipython3",
   "version": "3.9.13"
  },
  "vscode": {
   "interpreter": {
    "hash": "184393eaa798bd4b01ecdc275839ec0f4ac1e83e58e8e6ca5275999aa46cac2c"
   }
  },
  "widgets": {
   "application/vnd.jupyter.widget-state+json": {
    "state": {},
    "version_major": 2,
    "version_minor": 0
   }
  }
 },
 "nbformat": 4,
 "nbformat_minor": 5
}
